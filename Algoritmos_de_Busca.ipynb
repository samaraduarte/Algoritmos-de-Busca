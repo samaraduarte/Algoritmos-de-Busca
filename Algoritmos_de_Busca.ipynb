{
 "cells": [
  {
   "cell_type": "markdown",
   "metadata": {
    "id": "xnSJchl9wD2A"
   },
   "source": [
    "# **Algoritmos de Busca Cega**\n",
    "\n",
    "             1 - Busca em largura (busca em extensão) (BFS – Breadth-first search) \n",
    "             2 - Busca em profundidade (DFS – Depth-first search) \n",
    "             3 - Busca de custo uniforme (UCS - Uniform-Cost Search)\n",
    "\n",
    "# **Algoritmos de Busca Informada (Heuristica)**\n",
    "\n",
    "             1 - Busca A* (A estrela)\n",
    "\n"
   ]
  },
  {
   "cell_type": "markdown",
   "metadata": {
    "id": "pQ3NNlc38Q0-"
   },
   "source": [
    "Atividade: Considerando a árvore abaixo, construa 4 algoritmos de busca utilizando as técnicas acima (Busca em Largura, Profundidade, custo uniforme e A*).  \\ \n",
    "\n",
    " Obs1: O peso das arestas são utilizados nos algoritmos UCS e A*  e a Heurística será utilizada na Busca A* \n",
    "\n",
    " Obs2: O nó **N** representa o estado final e o nó **A** representa o estado inicial da busca."
   ]
  },
  {
   "cell_type": "markdown",
   "metadata": {
    "id": "RiAq3Y6X7pRC"
   },
   "source": [
    "![Grafo.png](data:image/png;base64,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)"
   ]
  },
  {
   "cell_type": "code",
   "execution_count": 1,
   "metadata": {},
   "outputs": [],
   "source": [
    "grafo = {\n",
    "  'A' : ['B','C'],\n",
    "  'B' : ['D','E'],\n",
    "  'C' : ['F','G'],\n",
    "  'D' : ['H','I'],\n",
    "  'E' : ['J','K'],\n",
    "  'F' : [],\n",
    "  'G' : ['L'],\n",
    "  'H' : [],  \n",
    "  'I' : [], \n",
    "  'J' : [], \n",
    "  'K' : [], \n",
    "  'L' : ['M','N'],  \n",
    "  'M' : [], \n",
    "  'N' : []\n",
    "}"
   ]
  },
  {
   "cell_type": "code",
   "execution_count": 2,
   "metadata": {},
   "outputs": [
    {
     "name": "stdout",
     "output_type": "stream",
     "text": [
      "A B C D E F G H I J K L M N "
     ]
    }
   ],
   "source": [
    "#array de visitados\n",
    "visitado = []\n",
    "\n",
    "#array da fila\n",
    "fila = []\n",
    "\n",
    "# funcao da Breadth First Search (busca em largura)\n",
    "def bfs(visitado, grafo, no):\n",
    "    visitado.append(no)\n",
    "    fila.append(no)\n",
    "    \n",
    "    while fila:\n",
    "        s = fila.pop(0)\n",
    "        print(s, end=' ')\n",
    "        \n",
    "        for vizinho in grafo[s]:\n",
    "            if vizinho not in visitado:\n",
    "                visitado.append(vizinho)\n",
    "                fila.append(vizinho)\n",
    " \n",
    " #pra parar quando encontra o 'N':\n",
    " #      if vizinho == 'N':\n",
    " #           print('encontrado!')\n",
    " #           break\n",
    "                \n",
    "bfs(visitado, grafo, 'A')"
   ]
  },
  {
   "cell_type": "code",
   "execution_count": 3,
   "metadata": {},
   "outputs": [
    {
     "name": "stdout",
     "output_type": "stream",
     "text": [
      "A B D H I E J K C F G L M N "
     ]
    }
   ],
   "source": [
    "#conjunto para rastrear nos visitados\n",
    "visitado = set()\n",
    "\n",
    "#função da Depth-first search - em profundidade\n",
    "def dfs(visitado, grafo, no):\n",
    "    if no not in visitado:\n",
    "        print(no, end=' ')\n",
    "        visitado.add(no)\n",
    "        for vizinho in grafo[no]:\n",
    "            dfs(visitado, grafo, vizinho)\n",
    "            \n",
    "dfs(visitado, grafo, 'A')"
   ]
  },
  {
   "cell_type": "code",
   "execution_count": 2,
   "metadata": {},
   "outputs": [],
   "source": [
    "dic = {\n",
    "  'A' : {'B':10,'C':2},\n",
    "  'B' : {'D':20,'E':30},\n",
    "  'C' : {'F':15,'G':25},\n",
    "  'D' : {'H':11,'I':1},\n",
    "  'E' : {'J':54,'K':46},\n",
    "  'F' : {},\n",
    "  'G' : {'L':11},\n",
    "  'H' : {},  \n",
    "  'I' : {}, \n",
    "  'J' : {}, \n",
    "  'K' : {}, \n",
    "  'L' : {'M':1,'N':9},  \n",
    "  'M' : {}, \n",
    "  'N' : {}\n",
    "} "
   ]
  },
  {
   "cell_type": "code",
   "execution_count": 5,
   "metadata": {},
   "outputs": [
    {
     "name": "stdout",
     "output_type": "stream",
     "text": [
      "Caminho encontrado: ['A', 'C', 'G', 'L', 'N'], Custo = 47\n"
     ]
    }
   ],
   "source": [
    "import queue as Q\n",
    "\n",
    "#função da Uniform-Cost Search\n",
    "def ucs(grafo, inicio, objetivo):\n",
    "    if inicio not in grafo:\n",
    "        raise TypeError(str(inicio) + ' Não encontrado no grafo!')\n",
    "        return\n",
    "    if objetivo not in grafo:\n",
    "        raise TypeError(str(objetivo) + ' Não encontrado no grafo!')\n",
    "        return\n",
    "    \n",
    "    fila = Q.PriorityQueue()\n",
    "    fila.put((0, [inicio]))\n",
    "    \n",
    "    while not fila.empty():\n",
    "        no = fila.get()\n",
    "        atual = no[1][len(no[1]) - 1]\n",
    "        \n",
    "        if objetivo in no[1]:\n",
    "            print(\"Caminho encontrado: \" + str(no[1]) + \", Custo = \" + str(no[0]))\n",
    "            break\n",
    "        \n",
    "        custo = no[0]\n",
    "        for vizinho in grafo[atual]:\n",
    "            temp = no[1][:]\n",
    "            temp.append(vizinho)\n",
    "            fila.put((custo + grafo[atual][vizinho], temp))\n",
    "            \n",
    "ucs(dic, 'A', 'N')"
   ]
  },
  {
   "cell_type": "code",
   "execution_count": 4,
   "metadata": {},
   "outputs": [],
   "source": [
    "arvore = {\n",
    "  'A' : [['B',10],['C',2]],\n",
    "  'B' : [['D',20],['E',30]],\n",
    "  'C' : [['F',15],['G',25]],\n",
    "  'D' : [['H',11],['I',1]],\n",
    "  'E' : [['J',54],['K',46]],\n",
    "  'F' : [],\n",
    "  'G' : [['L',11]],\n",
    "  'H' : [],  \n",
    "  'I' : [], \n",
    "  'J' : [], \n",
    "  'K' : [], \n",
    "  'L' : [['M',1],['N',9]],  \n",
    "  'M' : [], \n",
    "  'N' : []\n",
    "}\n",
    "\n",
    "heuristica  = {'A': 80, 'B': 100, 'C': 70, 'D': 110, 'E': 115, 'F': 65, 'G': 63, 'H': 115, 'I': 120, 'J': 117, 'K': 119, 'L': 50, 'M': 55, 'N':0, 'O':0, 'P':0, 'Q':0, 'R':0}"
   ]
  },
  {
   "cell_type": "code",
   "execution_count": 8,
   "metadata": {},
   "outputs": [
    {
     "name": "stdout",
     "output_type": "stream",
     "text": [
      "Nos visitados: [['A', 80], ['C', 72], ['F', 82], ['G', 90], ['L', 88], ['N', 47]]\n",
      "Sequencia otima: ['A', 'C', 'G', 'L', 'N']\n"
     ]
    }
   ],
   "source": [
    "# custo total para nos visitados\n",
    "custo = {'A': 0} \n",
    "\n",
    "#função A*\n",
    "def AStar():\n",
    "    global arvore, heuristica\n",
    "    \n",
    "    #nos fechados    \n",
    "    fechado = []             \n",
    "    #nos abertos\n",
    "    aberto = [['A', 80]]     \n",
    "    \n",
    "    # laço para encontrar nos visitados\n",
    "    while True:\n",
    "        # fn = f(n) = g(n) + h(n)\n",
    "        fn = [i[1] for i in aberto]     \n",
    "        indiceEscolhido = fn.index(min(fn))\n",
    "        \n",
    "        #no atual\n",
    "        no = aberto[indiceEscolhido][0]  \n",
    "        fechado.append(aberto[indiceEscolhido])\n",
    "        \n",
    "        del aberto[indiceEscolhido]\n",
    "        \n",
    "        # quebra o loop se encontar o N\n",
    "        if fechado[-1][0] == 'N':       \n",
    "            break\n",
    "        for item in arvore[no]:\n",
    "            if item[0] in [itemFechado[0] for itemFechado in fechado]:\n",
    "                continue\n",
    "                \n",
    "            #adicionar nós ao dicionário de custos    \n",
    "            custo.update({item[0]: custo[no] + item[1]})      \n",
    "            #calcula f(n) do no atual\n",
    "            fnNo = custo[no] + heuristica[item[0]] + item[1]     \n",
    "            temp = [item[0], fnNo]\n",
    "            #armazenar f(n) do nó atual na matriz aberta\n",
    "            aberto.append(temp)                                   \n",
    "\n",
    "    # encontra sequencia otima\n",
    "    #nó de rastreamento ideal correto, inicializar como nó N\n",
    "    tracoNo = 'N'                     \n",
    "    sequenciaOtima = ['N']                \n",
    "    for i in range(len(fechado)-2, -1, -1):\n",
    "        checarNo = fechado[i][0]\n",
    "        if tracoNo in [filho[0] for filho in arvore[checarNo]]:\n",
    "            custoFilho = [temp[1] for temp in arvore[checarNo]]\n",
    "            noFilho = [temp[0] for temp in arvore[checarNo]]\n",
    "\n",
    "            #verifique se h (s) + g (s) = f (s). Em caso afirmativo, anexe o nó atual à sequência ideal\n",
    "            #muda o nó de rastreamento ideal correto para o nó atual\n",
    "            if custo[checarNo] + custoFilho[noFilho.index(tracoNo)] == custo[tracoNo]:\n",
    "                sequenciaOtima.append(checarNo)\n",
    "                tracoNo = checarNo\n",
    "    #inverte a sequencia otima            \n",
    "    sequenciaOtima.reverse()            \n",
    "\n",
    "    return fechado, sequenciaOtima\n",
    "\n",
    "\n",
    "if __name__ == '__main__':\n",
    "    nosVisitados, nosOtimos = AStar()\n",
    "    print('Nos visitados: ' + str(nosVisitados))\n",
    "    print('Sequencia otima: ' + str(nosOtimos))"
   ]
  },
  {
   "cell_type": "code",
   "execution_count": null,
   "metadata": {},
   "outputs": [],
   "source": []
  }
 ],
 "metadata": {
  "colab": {
   "name": "Algoritmos de Busca.ipynb",
   "provenance": []
  },
  "kernelspec": {
   "display_name": "Python 3",
   "language": "python",
   "name": "python3"
  },
  "language_info": {
   "codemirror_mode": {
    "name": "ipython",
    "version": 3
   },
   "file_extension": ".py",
   "mimetype": "text/x-python",
   "name": "python",
   "nbconvert_exporter": "python",
   "pygments_lexer": "ipython3",
   "version": "3.7.6"
  }
 },
 "nbformat": 4,
 "nbformat_minor": 1
}
